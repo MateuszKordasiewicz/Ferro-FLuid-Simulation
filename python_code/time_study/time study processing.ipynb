{
 "cells": [
  {
   "cell_type": "code",
   "execution_count": 1,
   "id": "a0e41b35",
   "metadata": {},
   "outputs": [],
   "source": [
    "import pandas as pd\n",
    "import matplotlib\n",
    "import matplotlib.pyplot as plt\n",
    "import numpy as np\n",
    "import os\n",
    "import re\n",
    "\n",
    "from interpolate_to_common_grid_working import interpolate_to_common_grid\n",
    "from find_error_between_vectors import error_of_vectors\n",
    "from write_vtk_files import write_error_vector_to_vtk, write_vector_to_vtk\n",
    "\n",
    "data_ind = \"C:/Users/spyware/Documents/GitHub/MCG-4139/Final_project/Submission/Python Code/time_study/data/\"\n",
    "data_folders = os.listdir(data_ind)"
   ]
  },
  {
   "cell_type": "code",
   "execution_count": 2,
   "id": "a22c55b7",
   "metadata": {},
   "outputs": [],
   "source": [
    "##############################################################################\n",
    "# Import min/max data\n",
    "min_max_files = os.listdir(data_ind+data_folders[1]) \n",
    "df_min_max = pd.DataFrame(columns = ['CFL', 'Height_min', 'Height_max', 'X_velocity_min', \n",
    "                                     'X_velocity_max','Y_velocity_min', 'Y_velocity_max'])\n",
    "for i in range(len(min_max_files)):\n",
    "    location = data_ind + data_folders[1] + \"/\" + min_max_files[i]\n",
    "    tmp_df = pd.read_fwf(location, \n",
    "                         widths=[30,30,30,30,30,30],\n",
    "                         index_col=None)  \n",
    "    tmp_df['CFL'] = min_max_files[i].rstrip(\".dat\").replace('vector_min_max_CFL_', '')\n",
    "    df_min_max = pd.concat([df_min_max, tmp_df])\n",
    "df_min_max = df_min_max.sort_values(by='CFL', ascending=False)\n",
    "df_min_max = df_min_max.reset_index(drop=True)   "
   ]
  },
  {
   "cell_type": "code",
   "execution_count": 3,
   "id": "3a5c22f6",
   "metadata": {},
   "outputs": [],
   "source": [
    "##############################################################################\n",
    "# Import vector data\n",
    "vector_files = os.listdir(data_ind+data_folders[3]) \n",
    "df_vector = pd.DataFrame(columns = ['CFL', 'X', 'Y', 'Height', \n",
    "                                          'X_velocity','Y_velocity'])\n",
    "for i in range(len(min_max_files)):\n",
    "    location = data_ind + data_folders[3] + \"/\" + vector_files[i]\n",
    "    tmp_df = pd.read_fwf(location, \n",
    "                         widths=[30,30,30,30,30],\n",
    "                         index_col=None)  \n",
    "    tmp_df['CFL'] = vector_files[i].rstrip(\".dat\").replace('vector_CFL_', '')\n",
    "    df_vector = pd.concat([df_vector, tmp_df])\n",
    "df_vector = df_vector.sort_values(by='CFL', ascending=False)\n",
    "df_vector = df_vector.reset_index(drop=True)   "
   ]
  },
  {
   "cell_type": "code",
   "execution_count": 4,
   "id": "b0d9a9f7",
   "metadata": {},
   "outputs": [
    {
     "name": "stdout",
     "output_type": "stream",
     "text": [
      "Interpolating: 0.75\n",
      "Interpolating: 0.5\n",
      "Interpolating: 0.25\n"
     ]
    }
   ],
   "source": [
    "#tmp_df = df_vector[df_vector['CharLen'].isin(['0.00075'])]\n",
    "n = 1250\n",
    "common_grid_shape = (n, n)\n",
    "##############################################################################\n",
    "# Interpolate solution vectors\n",
    "interpolated_vector_df = interpolate_to_common_grid(df_vector, common_grid_shape)"
   ]
  },
  {
   "cell_type": "code",
   "execution_count": 5,
   "id": "dc4b04bb",
   "metadata": {},
   "outputs": [
    {
     "name": "stdout",
     "output_type": "stream",
     "text": [
      "Calculating error: 0.75 vs. 0.5\n",
      "Calculating error: 0.5 vs. 0.25\n"
     ]
    }
   ],
   "source": [
    "##############################################################################\n",
    "# Calculate errors\n",
    "error_vector_df = error_of_vectors(interpolated_vector_df, df_vector)"
   ]
  },
  {
   "cell_type": "code",
   "execution_count": 6,
   "id": "644cb288",
   "metadata": {},
   "outputs": [],
   "source": [
    "##############################################################################\n",
    "# Find sum of absolute value of the error vectors\n",
    "error_sum_dict = {}\n",
    "for comparison in error_vector_df['CFL'].unique():\n",
    "    df_comparison = error_vector_df[error_vector_df['CFL'] == comparison]\n",
    "    height_error_sum = df_comparison['Height_error'].abs().sum()\n",
    "    x_velocity_error_sum = df_comparison['X_velocity_error'].abs().sum()\n",
    "    y_velocity_error_sum = df_comparison['Y_velocity_error'].abs().sum()\n",
    "    error_sum_dict[comparison] = {'Height_error_sum': height_error_sum,\n",
    "                                  'X_velocity_error_sum': x_velocity_error_sum,\n",
    "                                  'Y_velocity_error_sum': y_velocity_error_sum}\n",
    "error_sum_df = pd.DataFrame.from_dict(error_sum_dict, orient='index')"
   ]
  },
  {
   "cell_type": "code",
   "execution_count": null,
   "id": "b9a8564b",
   "metadata": {},
   "outputs": [],
   "source": [
    "error_sum_df"
   ]
  },
  {
   "cell_type": "code",
   "execution_count": 9,
   "id": "a5278f30",
   "metadata": {},
   "outputs": [
    {
     "name": "stdout",
     "output_type": "stream",
     "text": [
      "Writing: VTKs/Interpolated/0.75.vtk\n",
      "Writing: VTKs/Interpolated/0.5.vtk\n",
      "Writing: VTKs/Interpolated/0.25.vtk\n"
     ]
    }
   ],
   "source": [
    "##############################################################################\n",
    "# Export interpolated vectors to VTK\n",
    "char_len_output = interpolated_vector_df['CFL'].unique()\n",
    "for output in char_len_output:\n",
    "    df_interp_output = interpolated_vector_df[interpolated_vector_df['CFL'] == output]\n",
    "    filename = f\"VTKs/Interpolated/{output}.vtk\"\n",
    "    write_vector_to_vtk(df_interp_output, filename)"
   ]
  },
  {
   "cell_type": "code",
   "execution_count": 10,
   "id": "3ffcfa38",
   "metadata": {},
   "outputs": [
    {
     "name": "stdout",
     "output_type": "stream",
     "text": [
      "Writing: VTKs/Error/0.75 vs. 0.5.vtk\n",
      "Writing: VTKs/Error/0.5 vs. 0.25.vtk\n"
     ]
    }
   ],
   "source": [
    "##############################################################################\n",
    "# Export error vector to VTK\n",
    "char_len_comparisons = error_vector_df['CFL'].unique()\n",
    "for comparison in char_len_comparisons:\n",
    "    df_comparison = error_vector_df[error_vector_df['CFL'] == comparison]\n",
    "    filename = f\"VTKs/Error/{comparison}.vtk\"\n",
    "    write_error_vector_to_vtk(df_comparison, filename)"
   ]
  },
  {
   "cell_type": "code",
   "execution_count": null,
   "id": "54ba21e6",
   "metadata": {},
   "outputs": [],
   "source": [
    "df_min_max_CharLens = df_min_max['CFL'].copy()\n",
    "df_min_max_diff = df_min_max.drop(['CFL'], axis=1)\n",
    "df_min_max_diff = df_min_max_diff.diff()\n",
    "df_min_max_diff['CFL'] = df_min_max_CharLens"
   ]
  },
  {
   "cell_type": "code",
   "execution_count": null,
   "id": "c3c5da15",
   "metadata": {},
   "outputs": [],
   "source": [
    "df_min_max['Y_velocity_max']"
   ]
  },
  {
   "cell_type": "code",
   "execution_count": null,
   "id": "cceb6a43",
   "metadata": {},
   "outputs": [],
   "source": [
    "df_min_max_diff"
   ]
  },
  {
   "cell_type": "code",
   "execution_count": null,
   "id": "c0515cdc",
   "metadata": {},
   "outputs": [],
   "source": [
    "df_min_max['Y_velocity_max']"
   ]
  },
  {
   "cell_type": "code",
   "execution_count": null,
   "id": "8a0ed58e",
   "metadata": {},
   "outputs": [],
   "source": [
    "df_min_max"
   ]
  }
 ],
 "metadata": {
  "kernelspec": {
   "display_name": "Python 3 (ipykernel)",
   "language": "python",
   "name": "python3"
  },
  "language_info": {
   "codemirror_mode": {
    "name": "ipython",
    "version": 3
   },
   "file_extension": ".py",
   "mimetype": "text/x-python",
   "name": "python",
   "nbconvert_exporter": "python",
   "pygments_lexer": "ipython3",
   "version": "3.10.9"
  }
 },
 "nbformat": 4,
 "nbformat_minor": 5
}
